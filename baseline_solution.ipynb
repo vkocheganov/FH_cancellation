{
 "cells": [
  {
   "cell_type": "code",
   "execution_count": 1,
   "metadata": {},
   "outputs": [],
   "source": [
    "import boto3\n",
    "import pandas as pd\n",
    "import numpy as np\n",
    "from sklearn.model_selection import train_test_split\n",
    "import lightgbm as lgb\n",
    "from io import StringIO\n",
    "from sklearn.metrics import mean_squared_error,roc_auc_score,precision_score\n",
    "\n",
    "from cancellation_model import CancellationModel, load_training_data, load_prediction_data\n"
   ]
  },
  {
   "cell_type": "code",
   "execution_count": 2,
   "metadata": {},
   "outputs": [
    {
     "name": "stderr",
     "output_type": "stream",
     "text": [
      "/home/vkocheganov/virtualenvironment/nn_course/lib/python3.8/site-packages/IPython/core/interactiveshell.py:3347: DtypeWarning: Columns (13) have mixed types.Specify dtype option on import or set low_memory=False.\n",
      "  if (await self.run_code(code, result,  async_=asy)):\n"
     ]
    }
   ],
   "source": [
    "train = load_training_data()\n",
    "test = load_prediction_data()"
   ]
  },
  {
   "cell_type": "code",
   "execution_count": 3,
   "metadata": {},
   "outputs": [],
   "source": [
    "params={}\n",
    "params['learning_rate']=0.03\n",
    "params['boosting_type']='gbdt' #GradientBoostingDecisionTree\n",
    "params['objective']='binary' #Binary target feature\n",
    "params['metric']='binary_logloss' #metric for binary classification\n",
    "params['max_depth']=10\n",
    "params['thres'] = 0.8\n",
    "model = CancellationModel({\"model_type\": \"lgb\", \"train_params\" : params, \"epocs\" : 100})"
   ]
  },
  {
   "cell_type": "code",
   "execution_count": 4,
   "metadata": {},
   "outputs": [
    {
     "name": "stdout",
     "output_type": "stream",
     "text": [
      "country_code\n",
      "provider_code_encoded\n",
      "[LightGBM] [Warning] Unknown parameter: thres\n",
      "[LightGBM] [Warning] Accuracy may be bad since you didn't explicitly set num_leaves OR 2^max_depth > num_leaves. (num_leaves=31).\n",
      "[LightGBM] [Warning] Unknown parameter: thres\n",
      "[LightGBM] [Warning] Accuracy may be bad since you didn't explicitly set num_leaves OR 2^max_depth > num_leaves. (num_leaves=31).\n",
      "[LightGBM] [Info] Number of positive: 241185, number of negative: 765903\n",
      "[LightGBM] [Warning] Auto-choosing col-wise multi-threading, the overhead of testing was 0.091978 seconds.\n",
      "You can set `force_col_wise=true` to remove the overhead.\n",
      "[LightGBM] [Info] Total Bins 706\n",
      "[LightGBM] [Info] Number of data points in the train set: 1007088, number of used features: 5\n",
      "[LightGBM] [Info] [binary:BoostFromScore]: pavg=0.239488 -> initscore=-1.155491\n",
      "[LightGBM] [Info] Start training from score -1.155491\n",
      "trained scores:  0.8628405078402579 0.8614159933222741\n"
     ]
    },
    {
     "data": {
      "text/plain": [
       "<lightgbm.basic.Booster at 0x7f460a06f3d0>"
      ]
     },
     "execution_count": 4,
     "metadata": {},
     "output_type": "execute_result"
    }
   ],
   "source": [
    "model.train(train)\n"
   ]
  },
  {
   "cell_type": "code",
   "execution_count": 5,
   "metadata": {},
   "outputs": [
    {
     "name": "stdout",
     "output_type": "stream",
     "text": [
      "country_code\n",
      "provider_code_encoded\n"
     ]
    },
    {
     "name": "stderr",
     "output_type": "stream",
     "text": [
      "/home/vkocheganov/Development/FH/AD/cancellation/cancellation_model.py:26: SettingWithCopyWarning: \n",
      "A value is trying to be set on a copy of a slice from a DataFrame.\n",
      "Try using .loc[row_indexer,col_indexer] = value instead\n",
      "\n",
      "See the caveats in the documentation: https://pandas.pydata.org/pandas-docs/stable/user_guide/indexing.html#returning-a-view-versus-a-copy\n",
      "  df[c] = df[c].astype(\n"
     ]
    },
    {
     "data": {
      "text/html": [
       "<div>\n",
       "<style scoped>\n",
       "    .dataframe tbody tr th:only-of-type {\n",
       "        vertical-align: middle;\n",
       "    }\n",
       "\n",
       "    .dataframe tbody tr th {\n",
       "        vertical-align: top;\n",
       "    }\n",
       "\n",
       "    .dataframe thead th {\n",
       "        text-align: right;\n",
       "    }\n",
       "</style>\n",
       "<table border=\"1\" class=\"dataframe\">\n",
       "  <thead>\n",
       "    <tr style=\"text-align: right;\">\n",
       "      <th></th>\n",
       "      <th>total_rate_usd</th>\n",
       "      <th>day_distance</th>\n",
       "      <th>nightly_rate_usd</th>\n",
       "      <th>length_of_stay</th>\n",
       "      <th>country_code</th>\n",
       "      <th>absolute_hotel_position</th>\n",
       "      <th>has_free_cancellation</th>\n",
       "      <th>session_nb_page_views</th>\n",
       "      <th>search_country_code</th>\n",
       "      <th>browser</th>\n",
       "      <th>os</th>\n",
       "      <th>session_locale</th>\n",
       "      <th>commission</th>\n",
       "      <th>can_pay_later</th>\n",
       "      <th>cancelled</th>\n",
       "      <th>provider_code_encoded</th>\n",
       "      <th>session_referrer_name_encoded</th>\n",
       "    </tr>\n",
       "  </thead>\n",
       "  <tbody>\n",
       "    <tr>\n",
       "      <th>1315372</th>\n",
       "      <td>41.698970</td>\n",
       "      <td>92.0</td>\n",
       "      <td>13.057436</td>\n",
       "      <td>2.0</td>\n",
       "      <td>MA</td>\n",
       "      <td>1.0</td>\n",
       "      <td>False</td>\n",
       "      <td>2.0</td>\n",
       "      <td>MA</td>\n",
       "      <td>Chrome Mobile</td>\n",
       "      <td>Android</td>\n",
       "      <td>\"fr\"</td>\n",
       "      <td>3.578500</td>\n",
       "      <td>False</td>\n",
       "      <td>1</td>\n",
       "      <td>LYS</td>\n",
       "      <td>LCT</td>\n",
       "    </tr>\n",
       "    <tr>\n",
       "      <th>156013</th>\n",
       "      <td>59.899500</td>\n",
       "      <td>0.0</td>\n",
       "      <td>53.286500</td>\n",
       "      <td>1.0</td>\n",
       "      <td>US</td>\n",
       "      <td>NaN</td>\n",
       "      <td>True</td>\n",
       "      <td>1.0</td>\n",
       "      <td>US</td>\n",
       "      <td>Chrome Mobile</td>\n",
       "      <td>Android</td>\n",
       "      <td>\"en\"</td>\n",
       "      <td>5.411547</td>\n",
       "      <td>True</td>\n",
       "      <td>0</td>\n",
       "      <td>EVT</td>\n",
       "      <td>FKX</td>\n",
       "    </tr>\n",
       "    <tr>\n",
       "      <th>1363093</th>\n",
       "      <td>11.228500</td>\n",
       "      <td>0.0</td>\n",
       "      <td>10.205012</td>\n",
       "      <td>1.0</td>\n",
       "      <td>MY</td>\n",
       "      <td>1.0</td>\n",
       "      <td>False</td>\n",
       "      <td>2.0</td>\n",
       "      <td>MY</td>\n",
       "      <td>Chrome Mobile</td>\n",
       "      <td>Android</td>\n",
       "      <td>\"en\"</td>\n",
       "      <td>0.649297</td>\n",
       "      <td>False</td>\n",
       "      <td>0</td>\n",
       "      <td>OMK</td>\n",
       "      <td>FKX</td>\n",
       "    </tr>\n",
       "    <tr>\n",
       "      <th>337970</th>\n",
       "      <td>34.884000</td>\n",
       "      <td>0.0</td>\n",
       "      <td>24.250500</td>\n",
       "      <td>1.0</td>\n",
       "      <td>US</td>\n",
       "      <td>NaN</td>\n",
       "      <td>False</td>\n",
       "      <td>2.0</td>\n",
       "      <td>US</td>\n",
       "      <td>Chrome Mobile</td>\n",
       "      <td>Android</td>\n",
       "      <td>\"en\"</td>\n",
       "      <td>0.770947</td>\n",
       "      <td>False</td>\n",
       "      <td>0</td>\n",
       "      <td>OMK</td>\n",
       "      <td>FKX</td>\n",
       "    </tr>\n",
       "    <tr>\n",
       "      <th>1058574</th>\n",
       "      <td>339.460619</td>\n",
       "      <td>0.0</td>\n",
       "      <td>270.053693</td>\n",
       "      <td>2.0</td>\n",
       "      <td>IT</td>\n",
       "      <td>1.0</td>\n",
       "      <td>False</td>\n",
       "      <td>4.0</td>\n",
       "      <td>DE</td>\n",
       "      <td>Chrome Mobile</td>\n",
       "      <td>Android</td>\n",
       "      <td>\"de\"</td>\n",
       "      <td>31.059000</td>\n",
       "      <td>True</td>\n",
       "      <td>0</td>\n",
       "      <td>LYS</td>\n",
       "      <td>LWR</td>\n",
       "    </tr>\n",
       "    <tr>\n",
       "      <th>...</th>\n",
       "      <td>...</td>\n",
       "      <td>...</td>\n",
       "      <td>...</td>\n",
       "      <td>...</td>\n",
       "      <td>...</td>\n",
       "      <td>...</td>\n",
       "      <td>...</td>\n",
       "      <td>...</td>\n",
       "      <td>...</td>\n",
       "      <td>...</td>\n",
       "      <td>...</td>\n",
       "      <td>...</td>\n",
       "      <td>...</td>\n",
       "      <td>...</td>\n",
       "      <td>...</td>\n",
       "      <td>...</td>\n",
       "      <td>...</td>\n",
       "    </tr>\n",
       "    <tr>\n",
       "      <th>836489</th>\n",
       "      <td>64.847412</td>\n",
       "      <td>1.0</td>\n",
       "      <td>65.025000</td>\n",
       "      <td>1.0</td>\n",
       "      <td>US</td>\n",
       "      <td>1.0</td>\n",
       "      <td>True</td>\n",
       "      <td>2.0</td>\n",
       "      <td>US</td>\n",
       "      <td>Chrome Mobile WebView</td>\n",
       "      <td>Android</td>\n",
       "      <td>\"en\"</td>\n",
       "      <td>4.828000</td>\n",
       "      <td>True</td>\n",
       "      <td>0</td>\n",
       "      <td>LYS</td>\n",
       "      <td>FKX</td>\n",
       "    </tr>\n",
       "    <tr>\n",
       "      <th>491263</th>\n",
       "      <td>19.448000</td>\n",
       "      <td>0.0</td>\n",
       "      <td>16.110399</td>\n",
       "      <td>1.0</td>\n",
       "      <td>TH</td>\n",
       "      <td>3.0</td>\n",
       "      <td>False</td>\n",
       "      <td>3.0</td>\n",
       "      <td>TH</td>\n",
       "      <td>Samsung Internet</td>\n",
       "      <td>Android</td>\n",
       "      <td>\"en\"</td>\n",
       "      <td>1.512859</td>\n",
       "      <td>False</td>\n",
       "      <td>0</td>\n",
       "      <td>OMK</td>\n",
       "      <td>FKX</td>\n",
       "    </tr>\n",
       "    <tr>\n",
       "      <th>470924</th>\n",
       "      <td>83.818500</td>\n",
       "      <td>2.0</td>\n",
       "      <td>75.854000</td>\n",
       "      <td>1.0</td>\n",
       "      <td>US</td>\n",
       "      <td>1.0</td>\n",
       "      <td>False</td>\n",
       "      <td>4.0</td>\n",
       "      <td>US</td>\n",
       "      <td>Mobile Safari</td>\n",
       "      <td>iOS</td>\n",
       "      <td>\"en\"</td>\n",
       "      <td>0.552019</td>\n",
       "      <td>False</td>\n",
       "      <td>0</td>\n",
       "      <td>OMK</td>\n",
       "      <td>FKX</td>\n",
       "    </tr>\n",
       "    <tr>\n",
       "      <th>491755</th>\n",
       "      <td>NaN</td>\n",
       "      <td>0.0</td>\n",
       "      <td>44.514500</td>\n",
       "      <td>2.0</td>\n",
       "      <td>US</td>\n",
       "      <td>1.0</td>\n",
       "      <td>False</td>\n",
       "      <td>2.0</td>\n",
       "      <td>US</td>\n",
       "      <td>Chrome Mobile</td>\n",
       "      <td>Android</td>\n",
       "      <td>\"en\"</td>\n",
       "      <td>1.966431</td>\n",
       "      <td>False</td>\n",
       "      <td>1</td>\n",
       "      <td>OMK</td>\n",
       "      <td>FKX</td>\n",
       "    </tr>\n",
       "    <tr>\n",
       "      <th>128037</th>\n",
       "      <td>104.309196</td>\n",
       "      <td>28.0</td>\n",
       "      <td>54.180985</td>\n",
       "      <td>1.0</td>\n",
       "      <td>TW</td>\n",
       "      <td>11.0</td>\n",
       "      <td>False</td>\n",
       "      <td>2.0</td>\n",
       "      <td>TW</td>\n",
       "      <td>Chrome Mobile</td>\n",
       "      <td>Android</td>\n",
       "      <td>\"zh-TW\"</td>\n",
       "      <td>NaN</td>\n",
       "      <td>True</td>\n",
       "      <td>1</td>\n",
       "      <td>LYS</td>\n",
       "      <td>LWR</td>\n",
       "    </tr>\n",
       "  </tbody>\n",
       "</table>\n",
       "<p>1007088 rows × 17 columns</p>\n",
       "</div>"
      ],
      "text/plain": [
       "         total_rate_usd  day_distance  nightly_rate_usd  length_of_stay  \\\n",
       "1315372       41.698970          92.0         13.057436             2.0   \n",
       "156013        59.899500           0.0         53.286500             1.0   \n",
       "1363093       11.228500           0.0         10.205012             1.0   \n",
       "337970        34.884000           0.0         24.250500             1.0   \n",
       "1058574      339.460619           0.0        270.053693             2.0   \n",
       "...                 ...           ...               ...             ...   \n",
       "836489        64.847412           1.0         65.025000             1.0   \n",
       "491263        19.448000           0.0         16.110399             1.0   \n",
       "470924        83.818500           2.0         75.854000             1.0   \n",
       "491755              NaN           0.0         44.514500             2.0   \n",
       "128037       104.309196          28.0         54.180985             1.0   \n",
       "\n",
       "        country_code  absolute_hotel_position has_free_cancellation  \\\n",
       "1315372           MA                      1.0                 False   \n",
       "156013            US                      NaN                  True   \n",
       "1363093           MY                      1.0                 False   \n",
       "337970            US                      NaN                 False   \n",
       "1058574           IT                      1.0                 False   \n",
       "...              ...                      ...                   ...   \n",
       "836489            US                      1.0                  True   \n",
       "491263            TH                      3.0                 False   \n",
       "470924            US                      1.0                 False   \n",
       "491755            US                      1.0                 False   \n",
       "128037            TW                     11.0                 False   \n",
       "\n",
       "         session_nb_page_views search_country_code                browser  \\\n",
       "1315372                    2.0                  MA          Chrome Mobile   \n",
       "156013                     1.0                  US          Chrome Mobile   \n",
       "1363093                    2.0                  MY          Chrome Mobile   \n",
       "337970                     2.0                  US          Chrome Mobile   \n",
       "1058574                    4.0                  DE          Chrome Mobile   \n",
       "...                        ...                 ...                    ...   \n",
       "836489                     2.0                  US  Chrome Mobile WebView   \n",
       "491263                     3.0                  TH       Samsung Internet   \n",
       "470924                     4.0                  US          Mobile Safari   \n",
       "491755                     2.0                  US          Chrome Mobile   \n",
       "128037                     2.0                  TW          Chrome Mobile   \n",
       "\n",
       "              os session_locale  commission can_pay_later  cancelled  \\\n",
       "1315372  Android           \"fr\"    3.578500         False          1   \n",
       "156013   Android           \"en\"    5.411547          True          0   \n",
       "1363093  Android           \"en\"    0.649297         False          0   \n",
       "337970   Android           \"en\"    0.770947         False          0   \n",
       "1058574  Android           \"de\"   31.059000          True          0   \n",
       "...          ...            ...         ...           ...        ...   \n",
       "836489   Android           \"en\"    4.828000          True          0   \n",
       "491263   Android           \"en\"    1.512859         False          0   \n",
       "470924       iOS           \"en\"    0.552019         False          0   \n",
       "491755   Android           \"en\"    1.966431         False          1   \n",
       "128037   Android        \"zh-TW\"         NaN          True          1   \n",
       "\n",
       "        provider_code_encoded session_referrer_name_encoded  \n",
       "1315372                   LYS                           LCT  \n",
       "156013                    EVT                           FKX  \n",
       "1363093                   OMK                           FKX  \n",
       "337970                    OMK                           FKX  \n",
       "1058574                   LYS                           LWR  \n",
       "...                       ...                           ...  \n",
       "836489                    LYS                           FKX  \n",
       "491263                    OMK                           FKX  \n",
       "470924                    OMK                           FKX  \n",
       "491755                    OMK                           FKX  \n",
       "128037                    LYS                           LWR  \n",
       "\n",
       "[1007088 rows x 17 columns]"
      ]
     },
     "execution_count": 5,
     "metadata": {},
     "output_type": "execute_result"
    }
   ],
   "source": [
    "train_data, validation_data = train_test_split(\n",
    "            train, test_size=0.3, random_state=1)\n",
    "model.preprocess(train_data)"
   ]
  },
  {
   "cell_type": "code",
   "execution_count": 6,
   "metadata": {},
   "outputs": [
    {
     "data": {
      "text/plain": [
       "(array([0.83350907, 0.09654702, 0.02311984, ..., 0.07526703, 0.14826541,\n",
       "        0.9491945 ]),\n",
       " 1315372    1\n",
       " 156013     0\n",
       " 1363093    0\n",
       " 337970     0\n",
       " 1058574    0\n",
       "           ..\n",
       " 836489     0\n",
       " 491263     0\n",
       " 470924     0\n",
       " 491755     1\n",
       " 128037     1\n",
       " Name: cancelled, Length: 1007088, dtype: int64)"
      ]
     },
     "execution_count": 6,
     "metadata": {},
     "output_type": "execute_result"
    }
   ],
   "source": [
    "model.predict(train_data, _preprocess = False)\n"
   ]
  },
  {
   "cell_type": "code",
   "execution_count": 7,
   "metadata": {},
   "outputs": [
    {
     "name": "stdout",
     "output_type": "stream",
     "text": [
      "country_code\n",
      "provider_code_encoded\n"
     ]
    }
   ],
   "source": [
    "X_test = pd.DataFrame()\n",
    "X_test['pred'], X_test['cancelled'] = model.predict(test)"
   ]
  },
  {
   "cell_type": "code",
   "execution_count": 8,
   "metadata": {},
   "outputs": [
    {
     "data": {
      "text/plain": [
       "1.0006962962194539"
      ]
     },
     "execution_count": 8,
     "metadata": {},
     "output_type": "execute_result"
    }
   ],
   "source": [
    "X_test.pred.sum()/X_test.cancelled.sum()\n"
   ]
  },
  {
   "cell_type": "code",
   "execution_count": 9,
   "metadata": {},
   "outputs": [
    {
     "name": "stdout",
     "output_type": "stream",
     "text": [
      "0         0.943053\n",
      "1         0.946952\n",
      "2         0.112062\n",
      "3         0.284907\n",
      "4         0.123722\n",
      "            ...   \n",
      "616581    0.108862\n",
      "616582    0.043176\n",
      "616583    0.044882\n",
      "616584    0.327695\n",
      "616585    0.102867\n",
      "Name: pred, Length: 616586, dtype: float64\n",
      "dumping\n",
      "loading\n",
      "loaded scores =  0.8628405 0.86141599\n",
      "country_code\n",
      "provider_code_encoded\n",
      "0         0.943053\n",
      "1         0.946952\n",
      "2         0.112062\n",
      "3         0.284907\n",
      "4         0.123722\n",
      "            ...   \n",
      "616581    0.108862\n",
      "616582    0.043176\n",
      "616583    0.044882\n",
      "616584    0.327695\n",
      "616585    0.102867\n",
      "Name: pred, Length: 616586, dtype: float64\n"
     ]
    }
   ],
   "source": [
    "\n",
    "print(X_test['pred'])\n",
    "model_saved = \"model.pkl\"\n",
    "model.dump(model_saved)\n",
    "loaded_model = CancellationModel.load(model_saved)\n",
    "X_test['pred'], X_test['cancelled'] = loaded_model.predict(test)\n",
    "print(X_test['pred'])\n"
   ]
  },
  {
   "cell_type": "code",
   "execution_count": 10,
   "metadata": {},
   "outputs": [
    {
     "data": {
      "text/plain": [
       "0.8625719535033165"
      ]
     },
     "execution_count": 10,
     "metadata": {},
     "output_type": "execute_result"
    }
   ],
   "source": [
    "model.score(X_test['cancelled'], X_test['pred'])"
   ]
  },
  {
   "cell_type": "code",
   "execution_count": 11,
   "metadata": {},
   "outputs": [
    {
     "data": {
      "text/plain": [
       "<AxesSubplot:title={'center':'Feature importance'}, xlabel='Feature importance', ylabel='Features'>"
      ]
     },
     "execution_count": 11,
     "metadata": {},
     "output_type": "execute_result"
    },
    {
     "data": {
      "image/png": "[encoded data removed]",
      "text/plain": [
       "<Figure size 432x288 with 1 Axes>"
      ]
     },
     "metadata": {
      "needs_background": "light"
     },
     "output_type": "display_data"
    }
   ],
   "source": [
    "lgb.plot_importance(model.model, ignore_zero = False, importance_type='gain')"
   ]
  },
  {
   "cell_type": "code",
   "execution_count": 12,
   "metadata": {},
   "outputs": [
    {
     "data": {
      "text/plain": [
       "Index(['total_rate_usd', 'day_distance', 'nightly_rate_usd', 'length_of_stay',\n",
       "       'country_code', 'absolute_hotel_position', 'has_free_cancellation',\n",
       "       'session_nb_page_views', 'search_country_code', 'browser', 'os',\n",
       "       'session_locale', 'commission', 'can_pay_later', 'cancelled',\n",
       "       'provider_code_encoded', 'session_referrer_name_encoded'],\n",
       "      dtype='object')"
      ]
     },
     "execution_count": 12,
     "metadata": {},
     "output_type": "execute_result"
    }
   ],
   "source": [
    "train.columns\n"
   ]
  },
  {
   "cell_type": "code",
   "execution_count": 13,
   "metadata": {},
   "outputs": [
    {
     "data": {
      "text/plain": [
       "<AxesSubplot:title={'center':'Feature importance'}, xlabel='Feature importance', ylabel='Features'>"
      ]
     },
     "execution_count": 13,
     "metadata": {},
     "output_type": "execute_result"
    },
    {
     "data": {
      "image/png": "[encoded data removed]",
      "text/plain": [
       "<Figure size 432x288 with 1 Axes>"
      ]
     },
     "metadata": {
      "needs_background": "light"
     },
     "output_type": "display_data"
    }
   ],
   "source": [
    "lgb.plot_importance(model.model, ignore_zero = False, importance_type='split')"
   ]
  }
 ],
 "metadata": {
  "kernelspec": {
   "display_name": "Python 3",
   "language": "python",
   "name": "python3"
  },
  "language_info": {
   "codemirror_mode": {
    "name": "ipython",
    "version": 3
   },
   "file_extension": ".py",
   "mimetype": "text/x-python",
   "name": "python",
   "nbconvert_exporter": "python",
   "pygments_lexer": "ipython3",
   "version": "3.8.10"
  },
  "name": "baseline_solution.ipynb"
 },
 "nbformat": 4,
 "nbformat_minor": 4
}
